{
  "nbformat": 4,
  "nbformat_minor": 0,
  "metadata": {
    "colab": {
      "provenance": [],
      "authorship_tag": "ABX9TyP0pxjLtj5e2fAA4JHC1T/h",
      "include_colab_link": true
    },
    "kernelspec": {
      "name": "python3",
      "display_name": "Python 3"
    },
    "language_info": {
      "name": "python"
    },
    "widgets": {
      "application/vnd.jupyter.widget-state+json": {
        "e44af3fa14d64ae4b729b374ca2d6147": {
          "model_module": "@jupyter-widgets/controls",
          "model_name": "VBoxModel",
          "model_module_version": "1.5.0",
          "state": {
            "_dom_classes": [
              "widget-interact"
            ],
            "_model_module": "@jupyter-widgets/controls",
            "_model_module_version": "1.5.0",
            "_model_name": "VBoxModel",
            "_view_count": null,
            "_view_module": "@jupyter-widgets/controls",
            "_view_module_version": "1.5.0",
            "_view_name": "VBoxView",
            "box_style": "",
            "children": [
              "IPY_MODEL_71386409758d43cb8da468b13a6f3529",
              "IPY_MODEL_0fc68dcbadf14751b8a848ad5dca324d",
              "IPY_MODEL_bf3456073d4141828f75b04241dcd110",
              "IPY_MODEL_1c825092db75448fba54e505079b8ad3",
              "IPY_MODEL_d4ff3538f1ee4a1e915ef76318239371"
            ],
            "layout": "IPY_MODEL_1f1b217849764a5683d65550cb2b9185"
          }
        },
        "71386409758d43cb8da468b13a6f3529": {
          "model_module": "@jupyter-widgets/controls",
          "model_name": "IntSliderModel",
          "model_module_version": "1.5.0",
          "state": {
            "_dom_classes": [],
            "_model_module": "@jupyter-widgets/controls",
            "_model_module_version": "1.5.0",
            "_model_name": "IntSliderModel",
            "_view_count": null,
            "_view_module": "@jupyter-widgets/controls",
            "_view_module_version": "1.5.0",
            "_view_name": "IntSliderView",
            "continuous_update": true,
            "description": "x1",
            "description_tooltip": null,
            "disabled": false,
            "layout": "IPY_MODEL_0b1054fcb63f43878fc643faa3a60162",
            "max": 10,
            "min": -10,
            "orientation": "horizontal",
            "readout": true,
            "readout_format": "d",
            "step": 1,
            "style": "IPY_MODEL_07c4b7ece7484e7f8bc2067e34dfdfad",
            "value": 0
          }
        },
        "0fc68dcbadf14751b8a848ad5dca324d": {
          "model_module": "@jupyter-widgets/controls",
          "model_name": "IntSliderModel",
          "model_module_version": "1.5.0",
          "state": {
            "_dom_classes": [],
            "_model_module": "@jupyter-widgets/controls",
            "_model_module_version": "1.5.0",
            "_model_name": "IntSliderModel",
            "_view_count": null,
            "_view_module": "@jupyter-widgets/controls",
            "_view_module_version": "1.5.0",
            "_view_name": "IntSliderView",
            "continuous_update": true,
            "description": "y1",
            "description_tooltip": null,
            "disabled": false,
            "layout": "IPY_MODEL_4cff29a6c927446c9ba2ee17a3b49684",
            "max": 10,
            "min": -10,
            "orientation": "horizontal",
            "readout": true,
            "readout_format": "d",
            "step": 1,
            "style": "IPY_MODEL_2091ce063abe440794843cb8976da948",
            "value": 0
          }
        },
        "bf3456073d4141828f75b04241dcd110": {
          "model_module": "@jupyter-widgets/controls",
          "model_name": "IntSliderModel",
          "model_module_version": "1.5.0",
          "state": {
            "_dom_classes": [],
            "_model_module": "@jupyter-widgets/controls",
            "_model_module_version": "1.5.0",
            "_model_name": "IntSliderModel",
            "_view_count": null,
            "_view_module": "@jupyter-widgets/controls",
            "_view_module_version": "1.5.0",
            "_view_name": "IntSliderView",
            "continuous_update": true,
            "description": "x2",
            "description_tooltip": null,
            "disabled": false,
            "layout": "IPY_MODEL_d532074f63ec4e8d9212ba13e504e4aa",
            "max": 10,
            "min": -10,
            "orientation": "horizontal",
            "readout": true,
            "readout_format": "d",
            "step": 1,
            "style": "IPY_MODEL_de78d4e69f3442cab7158e82219c5961",
            "value": 5
          }
        },
        "1c825092db75448fba54e505079b8ad3": {
          "model_module": "@jupyter-widgets/controls",
          "model_name": "IntSliderModel",
          "model_module_version": "1.5.0",
          "state": {
            "_dom_classes": [],
            "_model_module": "@jupyter-widgets/controls",
            "_model_module_version": "1.5.0",
            "_model_name": "IntSliderModel",
            "_view_count": null,
            "_view_module": "@jupyter-widgets/controls",
            "_view_module_version": "1.5.0",
            "_view_name": "IntSliderView",
            "continuous_update": true,
            "description": "y2",
            "description_tooltip": null,
            "disabled": false,
            "layout": "IPY_MODEL_7b8bbd5eafdd4fdbba418652e2b7f11d",
            "max": 10,
            "min": -10,
            "orientation": "horizontal",
            "readout": true,
            "readout_format": "d",
            "step": 1,
            "style": "IPY_MODEL_4158690e5ef949ff850a1f56f27e112a",
            "value": 5
          }
        },
        "d4ff3538f1ee4a1e915ef76318239371": {
          "model_module": "@jupyter-widgets/output",
          "model_name": "OutputModel",
          "model_module_version": "1.0.0",
          "state": {
            "_dom_classes": [],
            "_model_module": "@jupyter-widgets/output",
            "_model_module_version": "1.0.0",
            "_model_name": "OutputModel",
            "_view_count": null,
            "_view_module": "@jupyter-widgets/output",
            "_view_module_version": "1.0.0",
            "_view_name": "OutputView",
            "layout": "IPY_MODEL_fb50a036146f46ba9b6f9713d090643b",
            "msg_id": "",
            "outputs": [
              {
                "output_type": "stream",
                "name": "stdout",
                "text": [
                  "La distancia de Chebyshev entre (0, 0) y (5, 5) es: 5\n"
                ]
              },
              {
                "output_type": "display_data",
                "data": {
                  "text/plain": "<Figure size 640x480 with 1 Axes>",
                  "image/png": "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\n"
                },
                "metadata": {}
              }
            ]
          }
        },
        "1f1b217849764a5683d65550cb2b9185": {
          "model_module": "@jupyter-widgets/base",
          "model_name": "LayoutModel",
          "model_module_version": "1.2.0",
          "state": {
            "_model_module": "@jupyter-widgets/base",
            "_model_module_version": "1.2.0",
            "_model_name": "LayoutModel",
            "_view_count": null,
            "_view_module": "@jupyter-widgets/base",
            "_view_module_version": "1.2.0",
            "_view_name": "LayoutView",
            "align_content": null,
            "align_items": null,
            "align_self": null,
            "border": null,
            "bottom": null,
            "display": null,
            "flex": null,
            "flex_flow": null,
            "grid_area": null,
            "grid_auto_columns": null,
            "grid_auto_flow": null,
            "grid_auto_rows": null,
            "grid_column": null,
            "grid_gap": null,
            "grid_row": null,
            "grid_template_areas": null,
            "grid_template_columns": null,
            "grid_template_rows": null,
            "height": null,
            "justify_content": null,
            "justify_items": null,
            "left": null,
            "margin": null,
            "max_height": null,
            "max_width": null,
            "min_height": null,
            "min_width": null,
            "object_fit": null,
            "object_position": null,
            "order": null,
            "overflow": null,
            "overflow_x": null,
            "overflow_y": null,
            "padding": null,
            "right": null,
            "top": null,
            "visibility": null,
            "width": null
          }
        },
        "0b1054fcb63f43878fc643faa3a60162": {
          "model_module": "@jupyter-widgets/base",
          "model_name": "LayoutModel",
          "model_module_version": "1.2.0",
          "state": {
            "_model_module": "@jupyter-widgets/base",
            "_model_module_version": "1.2.0",
            "_model_name": "LayoutModel",
            "_view_count": null,
            "_view_module": "@jupyter-widgets/base",
            "_view_module_version": "1.2.0",
            "_view_name": "LayoutView",
            "align_content": null,
            "align_items": null,
            "align_self": null,
            "border": null,
            "bottom": null,
            "display": null,
            "flex": null,
            "flex_flow": null,
            "grid_area": null,
            "grid_auto_columns": null,
            "grid_auto_flow": null,
            "grid_auto_rows": null,
            "grid_column": null,
            "grid_gap": null,
            "grid_row": null,
            "grid_template_areas": null,
            "grid_template_columns": null,
            "grid_template_rows": null,
            "height": null,
            "justify_content": null,
            "justify_items": null,
            "left": null,
            "margin": null,
            "max_height": null,
            "max_width": null,
            "min_height": null,
            "min_width": null,
            "object_fit": null,
            "object_position": null,
            "order": null,
            "overflow": null,
            "overflow_x": null,
            "overflow_y": null,
            "padding": null,
            "right": null,
            "top": null,
            "visibility": null,
            "width": null
          }
        },
        "07c4b7ece7484e7f8bc2067e34dfdfad": {
          "model_module": "@jupyter-widgets/controls",
          "model_name": "SliderStyleModel",
          "model_module_version": "1.5.0",
          "state": {
            "_model_module": "@jupyter-widgets/controls",
            "_model_module_version": "1.5.0",
            "_model_name": "SliderStyleModel",
            "_view_count": null,
            "_view_module": "@jupyter-widgets/base",
            "_view_module_version": "1.2.0",
            "_view_name": "StyleView",
            "description_width": "",
            "handle_color": null
          }
        },
        "4cff29a6c927446c9ba2ee17a3b49684": {
          "model_module": "@jupyter-widgets/base",
          "model_name": "LayoutModel",
          "model_module_version": "1.2.0",
          "state": {
            "_model_module": "@jupyter-widgets/base",
            "_model_module_version": "1.2.0",
            "_model_name": "LayoutModel",
            "_view_count": null,
            "_view_module": "@jupyter-widgets/base",
            "_view_module_version": "1.2.0",
            "_view_name": "LayoutView",
            "align_content": null,
            "align_items": null,
            "align_self": null,
            "border": null,
            "bottom": null,
            "display": null,
            "flex": null,
            "flex_flow": null,
            "grid_area": null,
            "grid_auto_columns": null,
            "grid_auto_flow": null,
            "grid_auto_rows": null,
            "grid_column": null,
            "grid_gap": null,
            "grid_row": null,
            "grid_template_areas": null,
            "grid_template_columns": null,
            "grid_template_rows": null,
            "height": null,
            "justify_content": null,
            "justify_items": null,
            "left": null,
            "margin": null,
            "max_height": null,
            "max_width": null,
            "min_height": null,
            "min_width": null,
            "object_fit": null,
            "object_position": null,
            "order": null,
            "overflow": null,
            "overflow_x": null,
            "overflow_y": null,
            "padding": null,
            "right": null,
            "top": null,
            "visibility": null,
            "width": null
          }
        },
        "2091ce063abe440794843cb8976da948": {
          "model_module": "@jupyter-widgets/controls",
          "model_name": "SliderStyleModel",
          "model_module_version": "1.5.0",
          "state": {
            "_model_module": "@jupyter-widgets/controls",
            "_model_module_version": "1.5.0",
            "_model_name": "SliderStyleModel",
            "_view_count": null,
            "_view_module": "@jupyter-widgets/base",
            "_view_module_version": "1.2.0",
            "_view_name": "StyleView",
            "description_width": "",
            "handle_color": null
          }
        },
        "d532074f63ec4e8d9212ba13e504e4aa": {
          "model_module": "@jupyter-widgets/base",
          "model_name": "LayoutModel",
          "model_module_version": "1.2.0",
          "state": {
            "_model_module": "@jupyter-widgets/base",
            "_model_module_version": "1.2.0",
            "_model_name": "LayoutModel",
            "_view_count": null,
            "_view_module": "@jupyter-widgets/base",
            "_view_module_version": "1.2.0",
            "_view_name": "LayoutView",
            "align_content": null,
            "align_items": null,
            "align_self": null,
            "border": null,
            "bottom": null,
            "display": null,
            "flex": null,
            "flex_flow": null,
            "grid_area": null,
            "grid_auto_columns": null,
            "grid_auto_flow": null,
            "grid_auto_rows": null,
            "grid_column": null,
            "grid_gap": null,
            "grid_row": null,
            "grid_template_areas": null,
            "grid_template_columns": null,
            "grid_template_rows": null,
            "height": null,
            "justify_content": null,
            "justify_items": null,
            "left": null,
            "margin": null,
            "max_height": null,
            "max_width": null,
            "min_height": null,
            "min_width": null,
            "object_fit": null,
            "object_position": null,
            "order": null,
            "overflow": null,
            "overflow_x": null,
            "overflow_y": null,
            "padding": null,
            "right": null,
            "top": null,
            "visibility": null,
            "width": null
          }
        },
        "de78d4e69f3442cab7158e82219c5961": {
          "model_module": "@jupyter-widgets/controls",
          "model_name": "SliderStyleModel",
          "model_module_version": "1.5.0",
          "state": {
            "_model_module": "@jupyter-widgets/controls",
            "_model_module_version": "1.5.0",
            "_model_name": "SliderStyleModel",
            "_view_count": null,
            "_view_module": "@jupyter-widgets/base",
            "_view_module_version": "1.2.0",
            "_view_name": "StyleView",
            "description_width": "",
            "handle_color": null
          }
        },
        "7b8bbd5eafdd4fdbba418652e2b7f11d": {
          "model_module": "@jupyter-widgets/base",
          "model_name": "LayoutModel",
          "model_module_version": "1.2.0",
          "state": {
            "_model_module": "@jupyter-widgets/base",
            "_model_module_version": "1.2.0",
            "_model_name": "LayoutModel",
            "_view_count": null,
            "_view_module": "@jupyter-widgets/base",
            "_view_module_version": "1.2.0",
            "_view_name": "LayoutView",
            "align_content": null,
            "align_items": null,
            "align_self": null,
            "border": null,
            "bottom": null,
            "display": null,
            "flex": null,
            "flex_flow": null,
            "grid_area": null,
            "grid_auto_columns": null,
            "grid_auto_flow": null,
            "grid_auto_rows": null,
            "grid_column": null,
            "grid_gap": null,
            "grid_row": null,
            "grid_template_areas": null,
            "grid_template_columns": null,
            "grid_template_rows": null,
            "height": null,
            "justify_content": null,
            "justify_items": null,
            "left": null,
            "margin": null,
            "max_height": null,
            "max_width": null,
            "min_height": null,
            "min_width": null,
            "object_fit": null,
            "object_position": null,
            "order": null,
            "overflow": null,
            "overflow_x": null,
            "overflow_y": null,
            "padding": null,
            "right": null,
            "top": null,
            "visibility": null,
            "width": null
          }
        },
        "4158690e5ef949ff850a1f56f27e112a": {
          "model_module": "@jupyter-widgets/controls",
          "model_name": "SliderStyleModel",
          "model_module_version": "1.5.0",
          "state": {
            "_model_module": "@jupyter-widgets/controls",
            "_model_module_version": "1.5.0",
            "_model_name": "SliderStyleModel",
            "_view_count": null,
            "_view_module": "@jupyter-widgets/base",
            "_view_module_version": "1.2.0",
            "_view_name": "StyleView",
            "description_width": "",
            "handle_color": null
          }
        },
        "fb50a036146f46ba9b6f9713d090643b": {
          "model_module": "@jupyter-widgets/base",
          "model_name": "LayoutModel",
          "model_module_version": "1.2.0",
          "state": {
            "_model_module": "@jupyter-widgets/base",
            "_model_module_version": "1.2.0",
            "_model_name": "LayoutModel",
            "_view_count": null,
            "_view_module": "@jupyter-widgets/base",
            "_view_module_version": "1.2.0",
            "_view_name": "LayoutView",
            "align_content": null,
            "align_items": null,
            "align_self": null,
            "border": null,
            "bottom": null,
            "display": null,
            "flex": null,
            "flex_flow": null,
            "grid_area": null,
            "grid_auto_columns": null,
            "grid_auto_flow": null,
            "grid_auto_rows": null,
            "grid_column": null,
            "grid_gap": null,
            "grid_row": null,
            "grid_template_areas": null,
            "grid_template_columns": null,
            "grid_template_rows": null,
            "height": null,
            "justify_content": null,
            "justify_items": null,
            "left": null,
            "margin": null,
            "max_height": null,
            "max_width": null,
            "min_height": null,
            "min_width": null,
            "object_fit": null,
            "object_position": null,
            "order": null,
            "overflow": null,
            "overflow_x": null,
            "overflow_y": null,
            "padding": null,
            "right": null,
            "top": null,
            "visibility": null,
            "width": null
          }
        }
      }
    }
  },
  "cells": [
    {
      "cell_type": "markdown",
      "metadata": {
        "id": "view-in-github",
        "colab_type": "text"
      },
      "source": [
        "<a href=\"https://colab.research.google.com/github/clopp/TalentoTech/blob/main/Ejercicio_agrupamiento.ipynb\" target=\"_parent\"><img src=\"https://colab.research.google.com/assets/colab-badge.svg\" alt=\"Open In Colab\"/></a>"
      ]
    },
    {
      "cell_type": "markdown",
      "source": [
        "# La distancia\n",
        "es una forma de cuantificar la diferencia entre dos o mas datos. Si\n",
        "bien el término distancia puede suponer que solo se miden distancias típicas\n",
        "como por ejemplo, qué tanto se aleja un punto de otro o un punto del origen de\n",
        "coordenadas, sin embargo, existen diferentes medidas de distancias en función\n",
        "de las diferencias que se quieran cuantificar.\n",
        "\n"
      ],
      "metadata": {
        "id": "F_LHLVrM8n6m"
      }
    },
    {
      "cell_type": "markdown",
      "source": [
        "## Distancia euclidiana\n",
        "Es la distancia entre dos puntos de un espacio euclidiano. Para\n",
        "dos puntos (x1, y1) y (x2, y2) la distancia se calcula como:"
      ],
      "metadata": {
        "id": "kZir0d1p8vE2"
      }
    },
    {
      "cell_type": "code",
      "execution_count": null,
      "metadata": {
        "colab": {
          "base_uri": "https://localhost:8080/",
          "height": 467
        },
        "id": "v0zcovZW8avt",
        "outputId": "d587c8ba-b769-4b06-e35e-8e1b38218728"
      },
      "outputs": [
        {
          "output_type": "stream",
          "name": "stdout",
          "text": [
            "la distancia euclidiana es 7.280109889280518\n"
          ]
        },
        {
          "output_type": "display_data",
          "data": {
            "text/plain": [
              "<Figure size 640x480 with 1 Axes>"
            ],
            "image/png": "[encoded data removed]"
          },
          "metadata": {}
        }
      ],
      "source": [
        "# prompt: formula para sacar la distancia euclidianda . Es la distancia entre dos puntos de un espacio euclidiano. Para\n",
        "# dos puntos (x1, y1) y (x2, y2) la distancia se calcula como:\n",
        "\n",
        "import math\n",
        "import matplotlib.pyplot as plt\n",
        "\n",
        "def distancia_euclidiana(x1, y1, x2, y2):\n",
        "  \"\"\"\n",
        "  Calcula la distancia euclidiana entre dos puntos.\n",
        "\n",
        "  Args:\n",
        "    x1: Coordenada x del primer punto.\n",
        "    y1: Coordenada y del primer punto.\n",
        "    x2: Coordenada x del segundo punto.\n",
        "    y2: Coordenada y del segundo punto.\n",
        "\n",
        "  Returns:\n",
        "    La distancia euclidiana entre los dos puntos.\n",
        "  \"\"\"\n",
        "  return math.sqrt((x2 - x1)**2 + (y2 - y1)**2)\n",
        "print(\"la distancia euclidiana es\", distancia_euclidiana(10, 2, 3, 4))\n",
        "#graficar el valor de distancia euclidiana\n",
        "x1 = 10\n",
        "y1 = 2\n",
        "x2 = 3\n",
        "y2 = 4\n",
        "plt.plot([x1, x2], [y1, y2], 'ro-')\n",
        "plt.xlabel('x')\n",
        "plt.ylabel('y')\n",
        "plt.show()\n"
      ]
    },
    {
      "cell_type": "markdown",
      "source": [
        "## Distancia Manhattan\n",
        "Esta distancia se calcula teniendo en cuenta las diferencias\n",
        "absolutas entre las coordenadas de dos puntos, es decir, se\n",
        "inspira en las ciudades que están construidas por cuadras y\n",
        "para ir de un punto a otro se debe recorrer externamente cada\n",
        "cuadra en lugar de pasar en medio de ellas (lo que se calcularía\n",
        "con la distancia euclidiana)."
      ],
      "metadata": {
        "id": "Akdc9AOg9w1t"
      }
    },
    {
      "cell_type": "code",
      "source": [
        "# prompt: como calcular y graficar la distancias manhattan\n",
        "\n",
        "import matplotlib.pyplot as plt\n",
        "def distancia_manhattan(x1, y1, x2, y2):\n",
        "  \"\"\"\n",
        "  Calcula la distancia Manhattan entre dos puntos.\n",
        "\n",
        "  Args:\n",
        "    x1: Coordenada x del primer punto.\n",
        "    y1: Coordenada y del primer punto.\n",
        "    x2: Coordenada x del segundo punto.\n",
        "    y2: Coordenada y del segundo punto.\n",
        "\n",
        "  Returns:\n",
        "    La distancia Manhattan entre los dos puntos.\n",
        "  \"\"\"\n",
        "  return abs(x2 - x1) + abs(y2 - y1)\n",
        "\n",
        "# Calcular la distancia Manhattan\n",
        "x1 = 10\n",
        "y1 = 2\n",
        "x2 = 3\n",
        "y2 = 4\n",
        "distancia = distancia_manhattan(x1, y1, x2, y2)\n",
        "print(f\"La distancia Manhattan entre ({x1}, {y1}) y ({x2}, {y2}) es: {distancia}\")\n",
        "\n",
        "# Graficar la distancia Manhattan\n",
        "plt.plot([x1, x2], [y1, y2], 'ro-')\n",
        "plt.xlabel('x')\n",
        "plt.ylabel('y')\n",
        "plt.show()\n"
      ],
      "metadata": {
        "colab": {
          "base_uri": "https://localhost:8080/",
          "height": 467
        },
        "id": "YOugAdVD9tJO",
        "outputId": "029b51e4-bcdd-4ace-a8dd-298d75b6494e"
      },
      "execution_count": null,
      "outputs": [
        {
          "output_type": "stream",
          "name": "stdout",
          "text": [
            "La distancia Manhattan entre (10, 2) y (3, 4) es: 9\n"
          ]
        },
        {
          "output_type": "display_data",
          "data": {
            "text/plain": [
              "<Figure size 640x480 with 1 Axes>"
            ],
            "image/png": "[encoded data removed]"
          },
          "metadata": {}
        }
      ]
    },
    {
      "cell_type": "markdown",
      "source": [
        "## Distancia de Hamming\n",
        "Es empleada para calcular la diferencia entre dos secuencias de\n",
        "igual longitud. Se cuenta el número de posiciones en las cuales\n",
        "los símbolos correspondientes son diferentes. Por ejemplo, para\n",
        "las secuencias x y y, la distancia d se calcula como:\n",
        "\n",
        "En donde la función delta, para las secuencias xi y yi devuelve\n",
        "cero si son iguales en ese punto o devuelve un uno si son\n",
        "diferentes las secuencias en el punto i. Se puede emplear para\n",
        "calcular qué tan diferente es una palabra de otra en un texto (la\n",
        "palabra es una secuencia) y sugerir una corrección ortográfica\n",
        "acertada, con base en las distancias."
      ],
      "metadata": {
        "id": "UNDS9_gz-ZTl"
      }
    },
    {
      "cell_type": "code",
      "source": [
        "# prompt: Distancia de Hamming\n",
        "# Es empleada para calcular la diferencia entre dos secuencias de\n",
        "# igual longitud. Se cuenta el número de posiciones en las cuales\n",
        "# los símbolos correspondientes son diferentes. Por ejemplo, para\n",
        "# las secuencias x y y, la distancia d se calcula como:\n",
        "# En donde la función delta, para las secuencias xi y yi devuelve\n",
        "# cero si son iguales en ese punto o devuelve un uno si son\n",
        "# diferentes\n",
        "\n",
        "def distancia_hamming(x, y):\n",
        "  \"\"\"\n",
        "  Calcula la distancia de Hamming entre dos secuencias de igual longitud.\n",
        "\n",
        "  Args:\n",
        "    x: Primera secuencia.\n",
        "    y: Segunda secuencia.\n",
        "\n",
        "  Returns:\n",
        "    La distancia de Hamming entre las dos secuencias.\n",
        "  \"\"\"\n",
        "  if len(x) != len(y):\n",
        "    raise ValueError(\"Las secuencias deben tener la misma longitud.\")\n",
        "\n",
        "  distancia = 0\n",
        "  for i in range(len(x)):\n",
        "    if x[i] != y[i]:\n",
        "      distancia += 1\n",
        "  return distancia\n",
        "\n",
        "distancia_hamming(\"hola\", \"lhoa\")"
      ],
      "metadata": {
        "colab": {
          "base_uri": "https://localhost:8080/"
        },
        "id": "XnRWUt3h-zDu",
        "outputId": "8f2c4cfb-73bb-44ae-92c7-a4c83ab41b97"
      },
      "execution_count": null,
      "outputs": [
        {
          "output_type": "execute_result",
          "data": {
            "text/plain": [
              "3"
            ]
          },
          "metadata": {},
          "execution_count": 4
        }
      ]
    },
    {
      "cell_type": "markdown",
      "source": [
        "## Distancia de Chebyshev\n",
        "Esta distancia se define como la mayor diferencia entre las\n",
        "coordenadas de los puntos en cada dimensión. Para dos puntos\n",
        "(x1, y1), (x2, y2) se calcula como"
      ],
      "metadata": {
        "id": "8LYe9spP_QY1"
      }
    },
    {
      "cell_type": "markdown",
      "source": [],
      "metadata": {
        "id": "XoHRvV-Z-yfO"
      }
    },
    {
      "cell_type": "code",
      "source": [
        "# prompt: Distancia de Chebyshev\n",
        "# Esta distancia se define como la mayor diferencia entre las\n",
        "# coordenadas de los puntos en cada dimensión. Para dos puntos\n",
        "# (x1, y1), (x2, y2) se calcula como\n",
        "\n",
        "def distancia_chebyshev(x1, y1, x2, y2):\n",
        "  \"\"\"\n",
        "  Calcula la distancia de Chebyshev entre dos puntos.\n",
        "\n",
        "  Args:\n",
        "    x1: Coordenada x del primer punto.\n",
        "    y1: Coordenada y del primer punto.\n",
        "    x2: Coordenada x del segundo punto.\n",
        "    y2: Coordenada y del segundo punto.\n",
        "\n",
        "  Returns:\n",
        "    La distancia de Chebyshev entre los dos puntos.\n",
        "  \"\"\"\n",
        "  return max(abs(x2 - x1), abs(y2 - y1))\n",
        "\n",
        "distancia_chebyshev(10, 2, 3, 4)\n",
        "\n",
        "\n",
        "\n"
      ],
      "metadata": {
        "colab": {
          "base_uri": "https://localhost:8080/"
        },
        "id": "cpX07zWK_YC1",
        "outputId": "cba9c3e6-9c34-4905-c35c-e462a8180f0b"
      },
      "execution_count": null,
      "outputs": [
        {
          "output_type": "execute_result",
          "data": {
            "text/plain": [
              "7"
            ]
          },
          "metadata": {},
          "execution_count": 5
        }
      ]
    },
    {
      "cell_type": "code",
      "source": [
        "# prompt: crear la funcion y  grafiar la formula de la Distancia de Chebyshev que sea interactiva\n",
        "\n",
        "import math\n",
        "import matplotlib.pyplot as plt\n",
        "from ipywidgets import interact, widgets\n",
        "\n",
        "def distancia_chebyshev(x1, y1, x2, y2):\n",
        "  \"\"\"\n",
        "  Calcula la distancia de Chebyshev entre dos puntos.\n",
        "\n",
        "  Args:\n",
        "    x1: Coordenada x del primer punto.\n",
        "    y1: Coordenada y del primer punto.\n",
        "    x2: Coordenada x del segundo punto.\n",
        "    y2: Coordenada y del segundo punto.\n",
        "\n",
        "  Returns:\n",
        "    La distancia de Chebyshev entre los dos puntos.\n",
        "  \"\"\"\n",
        "  return max(abs(x2 - x1), abs(y2 - y1))\n",
        "\n",
        "def plot_chebyshev(x1, y1, x2, y2):\n",
        "  \"\"\"\n",
        "  Grafica la distancia de Chebyshev entre dos puntos.\n",
        "\n",
        "  Args:\n",
        "    x1: Coordenada x del primer punto.\n",
        "    y1: Coordenada y del primer punto.\n",
        "    x2: Coordenada x del segundo punto.\n",
        "    y2: Coordenada y del segundo punto.\n",
        "  \"\"\"\n",
        "  distancia = distancia_chebyshev(x1, y1, x2, y2)\n",
        "  print(f\"La distancia de Chebyshev entre ({x1}, {y1}) y ({x2}, {y2}) es: {distancia}\")\n",
        "\n",
        "  plt.plot([x1, x2], [y1, y2], 'ro-')\n",
        "  plt.xlabel('x')\n",
        "  plt.ylabel('y')\n",
        "  plt.title('Distancia de Chebyshev')\n",
        "  plt.grid(True)\n",
        "  plt.show()\n",
        "\n",
        "interact(plot_chebyshev,\n",
        "         x1=widgets.IntSlider(min=-10, max=10, step=1, value=0),\n",
        "         y1=widgets.IntSlider(min=-10, max=10, step=1, value=0),\n",
        "         x2=widgets.IntSlider(min=-10, max=10, step=1, value=5),\n",
        "         y2=widgets.IntSlider(min=-10, max=10, step=1, value=5))\n"
      ],
      "metadata": {
        "colab": {
          "base_uri": "https://localhost:8080/",
          "height": 787,
          "referenced_widgets": [
            "e44af3fa14d64ae4b729b374ca2d6147",
            "71386409758d43cb8da468b13a6f3529",
            "0fc68dcbadf14751b8a848ad5dca324d",
            "bf3456073d4141828f75b04241dcd110",
            "1c825092db75448fba54e505079b8ad3",
            "d4ff3538f1ee4a1e915ef76318239371",
            "1f1b217849764a5683d65550cb2b9185",
            "0b1054fcb63f43878fc643faa3a60162",
            "07c4b7ece7484e7f8bc2067e34dfdfad",
            "4cff29a6c927446c9ba2ee17a3b49684",
            "2091ce063abe440794843cb8976da948",
            "d532074f63ec4e8d9212ba13e504e4aa",
            "de78d4e69f3442cab7158e82219c5961",
            "7b8bbd5eafdd4fdbba418652e2b7f11d",
            "4158690e5ef949ff850a1f56f27e112a",
            "fb50a036146f46ba9b6f9713d090643b"
          ]
        },
        "id": "ubejWxnyBB3V",
        "outputId": "c60ec1b2-57dc-4424-fb42-312e9d9ec112"
      },
      "execution_count": null,
      "outputs": [
        {
          "output_type": "display_data",
          "data": {
            "text/plain": [
              "interactive(children=(IntSlider(value=0, description='x1', max=10, min=-10), IntSlider(value=0, description='y…"
            ],
            "application/vnd.jupyter.widget-view+json": {
              "version_major": 2,
              "version_minor": 0,
              "model_id": "e44af3fa14d64ae4b729b374ca2d6147"
            }
          },
          "metadata": {}
        },
        {
          "output_type": "execute_result",
          "data": {
            "text/plain": [
              "<function __main__.plot_chebyshev(x1, y1, x2, y2)>"
            ],
            "text/html": [
              "<div style=\"max-width:800px; border: 1px solid var(--colab-border-color);\"><style>\n",
              "      pre.function-repr-contents {\n",
              "        overflow-x: auto;\n",
              "        padding: 8px 12px;\n",
              "        max-height: 500px;\n",
              "      }\n",
              "\n",
              "      pre.function-repr-contents.function-repr-contents-collapsed {\n",
              "        cursor: pointer;\n",
              "        max-height: 100px;\n",
              "      }\n",
              "    </style>\n",
              "    <pre style=\"white-space: initial; background:\n",
              "         var(--colab-secondary-surface-color); padding: 8px 12px;\n",
              "         border-bottom: 1px solid var(--colab-border-color);\"><b>plot_chebyshev</b><br/>def plot_chebyshev(x1, y1, x2, y2)</pre><pre class=\"function-repr-contents function-repr-contents-collapsed\" style=\"\"><a class=\"filepath\" style=\"display:none\" href=\"#\">/content/&lt;ipython-input-6-015a2e89ab12&gt;</a>Grafica la distancia de Chebyshev entre dos puntos.\n",
              "\n",
              "Args:\n",
              "  x1: Coordenada x del primer punto.\n",
              "  y1: Coordenada y del primer punto.\n",
              "  x2: Coordenada x del segundo punto.\n",
              "  y2: Coordenada y del segundo punto.</pre></div>"
            ]
          },
          "metadata": {},
          "execution_count": 6
        }
      ]
    },
    {
      "cell_type": "markdown",
      "source": [
        "# EJERCICIO\n",
        "Para el conjunto de iris, calcular el promedio de las medidas de las flores de cada especie. Una vez se tengan los promedios de las tres especies, calcular la distancia Manhattan y euclidiana entre cada par de promedios. Graficar las distancias y sacar conclusiones de lo observado.\n",
        "¿Puede un modelo agrupar datos con base en estas medidas?\n",
        "¿Si no se tuviese la especie de la flor como dato en el dataset, se podría encontrar cuántas especies existen? ¿Cómo se emplearía la medida de distancia para ese fin?\n"
      ],
      "metadata": {
        "id": "o_a3kBfmrW70"
      }
    },
    {
      "cell_type": "code",
      "source": [
        "# prompt: importar el conjunto iris.data\n",
        "\n",
        "from sklearn import datasets\n",
        "iris = datasets.load_iris()\n"
      ],
      "metadata": {
        "id": "ppQL2EmnronC"
      },
      "execution_count": null,
      "outputs": []
    },
    {
      "cell_type": "code",
      "source": [
        "# prompt: convertir en un dataframe\n",
        "\n",
        "import pandas as pd\n",
        "df_iris = pd.DataFrame(data=iris.data, columns=iris.feature_names)\n",
        "df_iris['target'] = iris.target\n",
        "df_iris.head()\n"
      ],
      "metadata": {
        "colab": {
          "base_uri": "https://localhost:8080/",
          "height": 206
        },
        "id": "wwarb1ydry5K",
        "outputId": "9a803f84-1d8d-472a-f06b-54974845cc88"
      },
      "execution_count": null,
      "outputs": [
        {
          "output_type": "execute_result",
          "data": {
            "text/plain": [
              "   sepal length (cm)  sepal width (cm)  petal length (cm)  petal width (cm)  \\\n",
              "0                5.1               3.5                1.4               0.2   \n",
              "1                4.9               3.0                1.4               0.2   \n",
              "2                4.7               3.2                1.3               0.2   \n",
              "3                4.6               3.1                1.5               0.2   \n",
              "4                5.0               3.6                1.4               0.2   \n",
              "\n",
              "   target  \n",
              "0       0  \n",
              "1       0  \n",
              "2       0  \n",
              "3       0  \n",
              "4       0  "
            ],
            "text/html": [
              "\n",
              "  <div id=\"df-7d999b0e-6af1-4cd3-9275-baf242e6b414\" class=\"colab-df-container\">\n",
              "    <div>\n",
              "<style scoped>\n",
              "    .dataframe tbody tr th:only-of-type {\n",
              "        vertical-align: middle;\n",
              "    }\n",
              "\n",
              "    .dataframe tbody tr th {\n",
              "        vertical-align: top;\n",
              "    }\n",
              "\n",
              "    .dataframe thead th {\n",
              "        text-align: right;\n",
              "    }\n",
              "</style>\n",
              "<table border=\"1\" class=\"dataframe\">\n",
              "  <thead>\n",
              "    <tr style=\"text-align: right;\">\n",
              "      <th></th>\n",
              "      <th>sepal length (cm)</th>\n",
              "      <th>sepal width (cm)</th>\n",
              "      <th>petal length (cm)</th>\n",
              "      <th>petal width (cm)</th>\n",
              "      <th>target</th>\n",
              "    </tr>\n",
              "  </thead>\n",
              "  <tbody>\n",
              "    <tr>\n",
              "      <th>0</th>\n",
              "      <td>5.1</td>\n",
              "      <td>3.5</td>\n",
              "      <td>1.4</td>\n",
              "      <td>0.2</td>\n",
              "      <td>0</td>\n",
              "    </tr>\n",
              "    <tr>\n",
              "      <th>1</th>\n",
              "      <td>4.9</td>\n",
              "      <td>3.0</td>\n",
              "      <td>1.4</td>\n",
              "      <td>0.2</td>\n",
              "      <td>0</td>\n",
              "    </tr>\n",
              "    <tr>\n",
              "      <th>2</th>\n",
              "      <td>4.7</td>\n",
              "      <td>3.2</td>\n",
              "      <td>1.3</td>\n",
              "      <td>0.2</td>\n",
              "      <td>0</td>\n",
              "    </tr>\n",
              "    <tr>\n",
              "      <th>3</th>\n",
              "      <td>4.6</td>\n",
              "      <td>3.1</td>\n",
              "      <td>1.5</td>\n",
              "      <td>0.2</td>\n",
              "      <td>0</td>\n",
              "    </tr>\n",
              "    <tr>\n",
              "      <th>4</th>\n",
              "      <td>5.0</td>\n",
              "      <td>3.6</td>\n",
              "      <td>1.4</td>\n",
              "      <td>0.2</td>\n",
              "      <td>0</td>\n",
              "    </tr>\n",
              "  </tbody>\n",
              "</table>\n",
              "</div>\n",
              "    <div class=\"colab-df-buttons\">\n",
              "\n",
              "  <div class=\"colab-df-container\">\n",
              "    <button class=\"colab-df-convert\" onclick=\"convertToInteractive('df-7d999b0e-6af1-4cd3-9275-baf242e6b414')\"\n",
              "            title=\"Convert this dataframe to an interactive table.\"\n",
              "            style=\"display:none;\">\n",
              "\n",
              "  <svg xmlns=\"http://www.w3.org/2000/svg\" height=\"24px\" viewBox=\"0 -960 960 960\">\n",
              "    <path d=\"M120-120v-720h720v720H120Zm60-500h600v-160H180v160Zm220 220h160v-160H400v160Zm0 220h160v-160H400v160ZM180-400h160v-160H180v160Zm440 0h160v-160H620v160ZM180-180h160v-160H180v160Zm440 0h160v-160H620v160Z\"/>\n",
              "  </svg>\n",
              "    </button>\n",
              "\n",
              "  <style>\n",
              "    .colab-df-container {\n",
              "      display:flex;\n",
              "      gap: 12px;\n",
              "    }\n",
              "\n",
              "    .colab-df-convert {\n",
              "      background-color: #E8F0FE;\n",
              "      border: none;\n",
              "      border-radius: 50%;\n",
              "      cursor: pointer;\n",
              "      display: none;\n",
              "      fill: #1967D2;\n",
              "      height: 32px;\n",
              "      padding: 0 0 0 0;\n",
              "      width: 32px;\n",
              "    }\n",
              "\n",
              "    .colab-df-convert:hover {\n",
              "      background-color: #E2EBFA;\n",
              "      box-shadow: 0px 1px 2px rgba(60, 64, 67, 0.3), 0px 1px 3px 1px rgba(60, 64, 67, 0.15);\n",
              "      fill: #174EA6;\n",
              "    }\n",
              "\n",
              "    .colab-df-buttons div {\n",
              "      margin-bottom: 4px;\n",
              "    }\n",
              "\n",
              "    [theme=dark] .colab-df-convert {\n",
              "      background-color: #3B4455;\n",
              "      fill: #D2E3FC;\n",
              "    }\n",
              "\n",
              "    [theme=dark] .colab-df-convert:hover {\n",
              "      background-color: #434B5C;\n",
              "      box-shadow: 0px 1px 3px 1px rgba(0, 0, 0, 0.15);\n",
              "      filter: drop-shadow(0px 1px 2px rgba(0, 0, 0, 0.3));\n",
              "      fill: #FFFFFF;\n",
              "    }\n",
              "  </style>\n",
              "\n",
              "    <script>\n",
              "      const buttonEl =\n",
              "        document.querySelector('#df-7d999b0e-6af1-4cd3-9275-baf242e6b414 button.colab-df-convert');\n",
              "      buttonEl.style.display =\n",
              "        google.colab.kernel.accessAllowed ? 'block' : 'none';\n",
              "\n",
              "      async function convertToInteractive(key) {\n",
              "        const element = document.querySelector('#df-7d999b0e-6af1-4cd3-9275-baf242e6b414');\n",
              "        const dataTable =\n",
              "          await google.colab.kernel.invokeFunction('convertToInteractive',\n",
              "                                                    [key], {});\n",
              "        if (!dataTable) return;\n",
              "\n",
              "        const docLinkHtml = 'Like what you see? Visit the ' +\n",
              "          '<a target=\"_blank\" href=https://colab.research.google.com/notebooks/data_table.ipynb>data table notebook</a>'\n",
              "          + ' to learn more about interactive tables.';\n",
              "        element.innerHTML = '';\n",
              "        dataTable['output_type'] = 'display_data';\n",
              "        await google.colab.output.renderOutput(dataTable, element);\n",
              "        const docLink = document.createElement('div');\n",
              "        docLink.innerHTML = docLinkHtml;\n",
              "        element.appendChild(docLink);\n",
              "      }\n",
              "    </script>\n",
              "  </div>\n",
              "\n",
              "\n",
              "<div id=\"df-44eb1430-265f-4a21-add7-ac4115a8667d\">\n",
              "  <button class=\"colab-df-quickchart\" onclick=\"quickchart('df-44eb1430-265f-4a21-add7-ac4115a8667d')\"\n",
              "            title=\"Suggest charts\"\n",
              "            style=\"display:none;\">\n",
              "\n",
              "<svg xmlns=\"http://www.w3.org/2000/svg\" height=\"24px\"viewBox=\"0 0 24 24\"\n",
              "     width=\"24px\">\n",
              "    <g>\n",
              "        <path d=\"M19 3H5c-1.1 0-2 .9-2 2v14c0 1.1.9 2 2 2h14c1.1 0 2-.9 2-2V5c0-1.1-.9-2-2-2zM9 17H7v-7h2v7zm4 0h-2V7h2v10zm4 0h-2v-4h2v4z\"/>\n",
              "    </g>\n",
              "</svg>\n",
              "  </button>\n",
              "\n",
              "<style>\n",
              "  .colab-df-quickchart {\n",
              "      --bg-color: #E8F0FE;\n",
              "      --fill-color: #1967D2;\n",
              "      --hover-bg-color: #E2EBFA;\n",
              "      --hover-fill-color: #174EA6;\n",
              "      --disabled-fill-color: #AAA;\n",
              "      --disabled-bg-color: #DDD;\n",
              "  }\n",
              "\n",
              "  [theme=dark] .colab-df-quickchart {\n",
              "      --bg-color: #3B4455;\n",
              "      --fill-color: #D2E3FC;\n",
              "      --hover-bg-color: #434B5C;\n",
              "      --hover-fill-color: #FFFFFF;\n",
              "      --disabled-bg-color: #3B4455;\n",
              "      --disabled-fill-color: #666;\n",
              "  }\n",
              "\n",
              "  .colab-df-quickchart {\n",
              "    background-color: var(--bg-color);\n",
              "    border: none;\n",
              "    border-radius: 50%;\n",
              "    cursor: pointer;\n",
              "    display: none;\n",
              "    fill: var(--fill-color);\n",
              "    height: 32px;\n",
              "    padding: 0;\n",
              "    width: 32px;\n",
              "  }\n",
              "\n",
              "  .colab-df-quickchart:hover {\n",
              "    background-color: var(--hover-bg-color);\n",
              "    box-shadow: 0 1px 2px rgba(60, 64, 67, 0.3), 0 1px 3px 1px rgba(60, 64, 67, 0.15);\n",
              "    fill: var(--button-hover-fill-color);\n",
              "  }\n",
              "\n",
              "  .colab-df-quickchart-complete:disabled,\n",
              "  .colab-df-quickchart-complete:disabled:hover {\n",
              "    background-color: var(--disabled-bg-color);\n",
              "    fill: var(--disabled-fill-color);\n",
              "    box-shadow: none;\n",
              "  }\n",
              "\n",
              "  .colab-df-spinner {\n",
              "    border: 2px solid var(--fill-color);\n",
              "    border-color: transparent;\n",
              "    border-bottom-color: var(--fill-color);\n",
              "    animation:\n",
              "      spin 1s steps(1) infinite;\n",
              "  }\n",
              "\n",
              "  @keyframes spin {\n",
              "    0% {\n",
              "      border-color: transparent;\n",
              "      border-bottom-color: var(--fill-color);\n",
              "      border-left-color: var(--fill-color);\n",
              "    }\n",
              "    20% {\n",
              "      border-color: transparent;\n",
              "      border-left-color: var(--fill-color);\n",
              "      border-top-color: var(--fill-color);\n",
              "    }\n",
              "    30% {\n",
              "      border-color: transparent;\n",
              "      border-left-color: var(--fill-color);\n",
              "      border-top-color: var(--fill-color);\n",
              "      border-right-color: var(--fill-color);\n",
              "    }\n",
              "    40% {\n",
              "      border-color: transparent;\n",
              "      border-right-color: var(--fill-color);\n",
              "      border-top-color: var(--fill-color);\n",
              "    }\n",
              "    60% {\n",
              "      border-color: transparent;\n",
              "      border-right-color: var(--fill-color);\n",
              "    }\n",
              "    80% {\n",
              "      border-color: transparent;\n",
              "      border-right-color: var(--fill-color);\n",
              "      border-bottom-color: var(--fill-color);\n",
              "    }\n",
              "    90% {\n",
              "      border-color: transparent;\n",
              "      border-bottom-color: var(--fill-color);\n",
              "    }\n",
              "  }\n",
              "</style>\n",
              "\n",
              "  <script>\n",
              "    async function quickchart(key) {\n",
              "      const quickchartButtonEl =\n",
              "        document.querySelector('#' + key + ' button');\n",
              "      quickchartButtonEl.disabled = true;  // To prevent multiple clicks.\n",
              "      quickchartButtonEl.classList.add('colab-df-spinner');\n",
              "      try {\n",
              "        const charts = await google.colab.kernel.invokeFunction(\n",
              "            'suggestCharts', [key], {});\n",
              "      } catch (error) {\n",
              "        console.error('Error during call to suggestCharts:', error);\n",
              "      }\n",
              "      quickchartButtonEl.classList.remove('colab-df-spinner');\n",
              "      quickchartButtonEl.classList.add('colab-df-quickchart-complete');\n",
              "    }\n",
              "    (() => {\n",
              "      let quickchartButtonEl =\n",
              "        document.querySelector('#df-44eb1430-265f-4a21-add7-ac4115a8667d button');\n",
              "      quickchartButtonEl.style.display =\n",
              "        google.colab.kernel.accessAllowed ? 'block' : 'none';\n",
              "    })();\n",
              "  </script>\n",
              "</div>\n",
              "\n",
              "    </div>\n",
              "  </div>\n"
            ],
            "application/vnd.google.colaboratory.intrinsic+json": {
              "type": "dataframe",
              "variable_name": "df_iris",
              "summary": "{\n  \"name\": \"df_iris\",\n  \"rows\": 150,\n  \"fields\": [\n    {\n      \"column\": \"sepal length (cm)\",\n      \"properties\": {\n        \"dtype\": \"number\",\n        \"std\": 0.828066127977863,\n        \"min\": 4.3,\n        \"max\": 7.9,\n        \"num_unique_values\": 35,\n        \"samples\": [\n          6.2,\n          4.5,\n          5.6\n        ],\n        \"semantic_type\": \"\",\n        \"description\": \"\"\n      }\n    },\n    {\n      \"column\": \"sepal width (cm)\",\n      \"properties\": {\n        \"dtype\": \"number\",\n        \"std\": 0.4358662849366982,\n        \"min\": 2.0,\n        \"max\": 4.4,\n        \"num_unique_values\": 23,\n        \"samples\": [\n          2.3,\n          4.0,\n          3.5\n        ],\n        \"semantic_type\": \"\",\n        \"description\": \"\"\n      }\n    },\n    {\n      \"column\": \"petal length (cm)\",\n      \"properties\": {\n        \"dtype\": \"number\",\n        \"std\": 1.7652982332594662,\n        \"min\": 1.0,\n        \"max\": 6.9,\n        \"num_unique_values\": 43,\n        \"samples\": [\n          6.7,\n          3.8,\n          3.7\n        ],\n        \"semantic_type\": \"\",\n        \"description\": \"\"\n      }\n    },\n    {\n      \"column\": \"petal width (cm)\",\n      \"properties\": {\n        \"dtype\": \"number\",\n        \"std\": 0.7622376689603465,\n        \"min\": 0.1,\n        \"max\": 2.5,\n        \"num_unique_values\": 22,\n        \"samples\": [\n          0.2,\n          1.2,\n          1.3\n        ],\n        \"semantic_type\": \"\",\n        \"description\": \"\"\n      }\n    },\n    {\n      \"column\": \"target\",\n      \"properties\": {\n        \"dtype\": \"number\",\n        \"std\": 0,\n        \"min\": 0,\n        \"max\": 2,\n        \"num_unique_values\": 3,\n        \"samples\": [\n          0,\n          1,\n          2\n        ],\n        \"semantic_type\": \"\",\n        \"description\": \"\"\n      }\n    }\n  ]\n}"
            }
          },
          "metadata": {},
          "execution_count": 8
        }
      ]
    },
    {
      "cell_type": "code",
      "source": [
        "# prompt: calcular el promedio de las medidas de las flores de cada especie de acuerdo a k-means y graficar\n",
        "\n",
        "import matplotlib.pyplot as plt\n",
        "from sklearn.cluster import KMeans\n",
        "\n",
        "# Agrupar los datos con KMeans\n",
        "kmeans = KMeans(n_clusters=3, random_state=0)\n",
        "df_iris['cluster'] = kmeans.fit_predict(df_iris[['sepal length (cm)', 'sepal width (cm)', 'petal length (cm)', 'petal width (cm)']])\n",
        "\n",
        "# Calcular el promedio de las medidas de las flores de cada especie\n",
        "promedios = df_iris.groupby('cluster').mean()\n",
        "#imprimir los promedios en una tabla\n",
        "print(promedios)\n",
        "# Graficar los promedios por colores\n",
        "plt.figure(figsize=(10, 6))\n",
        "\n",
        "\n",
        "plt.scatter(promedios['sepal length (cm)'], promedios['sepal width (cm)'], s=200, c=promedios.index, cmap='viridis')\n",
        "plt.scatter(promedios['petal length (cm)'], promedios['petal width (cm)'], s=200, c=promedios.index, cmap='viridis')\n",
        "plt.xlabel('Longitud del sépalo (cm)')\n",
        "plt.ylabel('Ancho del sépalo (cm)')\n",
        "plt.title('Promedio de las medidas de las flores de cada especie')\n",
        "plt.show()\n"
      ],
      "metadata": {
        "colab": {
          "base_uri": "https://localhost:8080/",
          "height": 820
        },
        "id": "lAlvrRYpsj3I",
        "outputId": "e3f1225c-be79-48c5-faff-3bc743ae75d6"
      },
      "execution_count": null,
      "outputs": [
        {
          "output_type": "stream",
          "name": "stderr",
          "text": [
            "/usr/local/lib/python3.10/dist-packages/sklearn/cluster/_kmeans.py:1416: FutureWarning: The default value of `n_init` will change from 10 to 'auto' in 1.4. Set the value of `n_init` explicitly to suppress the warning\n",
            "  super()._check_params_vs_input(X, default_n_init=10)\n"
          ]
        },
        {
          "output_type": "stream",
          "name": "stdout",
          "text": [
            "         sepal length (cm)  sepal width (cm)  petal length (cm)  \\\n",
            "cluster                                                           \n",
            "0                 5.901613          2.748387           4.393548   \n",
            "1                 5.006000          3.428000           1.462000   \n",
            "2                 6.850000          3.073684           5.742105   \n",
            "\n",
            "         petal width (cm)    target  \n",
            "cluster                              \n",
            "0                1.433871  1.225806  \n",
            "1                0.246000  0.000000  \n",
            "2                2.071053  1.947368  \n"
          ]
        },
        {
          "output_type": "display_data",
          "data": {
            "text/plain": [
              "<Figure size 1000x600 with 1 Axes>"
            ],
            "image/png": "[encoded data removed]"
          },
          "metadata": {}
        }
      ]
    },
    {
      "cell_type": "code",
      "source": [
        "# prompt: como se grafica la distancia euclidiana\n",
        "\n",
        "import matplotlib.pyplot as plt\n",
        "# Obtener las coordenadas de los promedios\n",
        "x1 = promedios['sepal length (cm)'][0]\n",
        "y1 = promedios['sepal width (cm)'][0]\n",
        "x2 = promedios['sepal length (cm)'][1]\n",
        "y2 = promedios['sepal width (cm)'][1]\n",
        "\n",
        "# Calcular la distancia euclidiana\n",
        "distancia = distancia_euclidiana(x1, y1, x2, y2)\n",
        "print(distancia)\n",
        "# Graficar la distancia euclidiana\n",
        "plt.plot([x1, x2], [y1, y2], 'ro-')\n",
        "plt.xlabel('Longitud del sépalo (cm)')\n",
        "plt.ylabel('Ancho del sépalo (cm)')\n",
        "plt.title('Distancia Euclidiana entre dos promedios')\n",
        "plt.show()\n"
      ],
      "metadata": {
        "colab": {
          "base_uri": "https://localhost:8080/",
          "height": 490
        },
        "id": "9d7aGPcRwER-",
        "outputId": "2d290dad-b66d-45fe-b220-93e094e3d719"
      },
      "execution_count": null,
      "outputs": [
        {
          "output_type": "stream",
          "name": "stdout",
          "text": [
            "1.1242758427786155\n"
          ]
        },
        {
          "output_type": "display_data",
          "data": {
            "text/plain": [
              "<Figure size 640x480 with 1 Axes>"
            ],
            "image/png": "[encoded data removed]"
          },
          "metadata": {}
        }
      ]
    },
    {
      "cell_type": "code",
      "source": [
        "import matplotlib.pyplot as plt\n",
        "import numpy as np\n",
        "\n",
        "def distancia_manhattan(punto1, punto2):\n",
        "    \"\"\"\n",
        "    Calcula la distancia de Manhattan entre dos puntos en un espacio bidimensional.\n",
        "\n",
        "    Parámetros:\n",
        "    punto1 (tuple): El primer punto en formato (x1, y1).\n",
        "    punto2 (tuple): El segundo punto en formato (x2, y2).\n",
        "\n",
        "    Retorna:\n",
        "    float: La distancia de Manhattan entre los dos puntos.\n",
        "    \"\"\"\n",
        "    x1, y1 = punto1\n",
        "    x2, y2 = punto2\n",
        "    return abs(x1 - x2) + abs(y1 - y2)\n",
        "\n",
        "def graficar_distancia_manhattan(punto1, punto2):\n",
        "    \"\"\"\n",
        "    Grafica los dos puntos y las rectas que componen el camino en forma de \"L\"\n",
        "    entre los puntos usando la distancia de Manhattan.\n",
        "\n",
        "    Parámetros:\n",
        "    punto1 (tuple): El primer punto en formato (x1, y1).\n",
        "    punto2 (tuple): El segundo punto en formato (x2, y2).\n",
        "    \"\"\"\n",
        "    x1, y1 = punto1\n",
        "    x2, y2 = punto2\n",
        "\n",
        "    # Graficar los puntos\n",
        "    plt.plot([x1, x2], [y1, y1], 'ro-', label='Horizontal')  # Línea horizontal\n",
        "    plt.plot([x2, x2], [y1, y2], 'go-', label='Vertical')    # Línea vertical\n",
        "    plt.plot([x1, x1], [y1, y1], 'bo-', label='Punto 1')     # Punto 1\n",
        "    plt.plot([x2, x2], [y2, y2], 'yo-', label='Punto 2')     # Punto 2\n",
        "\n",
        "    # Ajustar etiquetas y leyenda\n",
        "    plt.xlabel('Eje X')\n",
        "    plt.ylabel('Eje Y')\n",
        "    plt.legend()\n",
        "    plt.title('Distancia de Manhattan en 2D')\n",
        "\n",
        "    # Mostrar la gráfica\n",
        "    plt.show()\n",
        "\n",
        "# Ejemplo de uso\n",
        "# Obtener las coordenadas de los promedios\n",
        "x1 = promedios['sepal length (cm)'][0]\n",
        "y1 = promedios['sepal width (cm)'][0]\n",
        "x2 = promedios['sepal length (cm)'][1]\n",
        "y2 = promedios['sepal width (cm)'][1]\n",
        "punto1 = (x1, x2)\n",
        "punto2 = (y1, y2)\n",
        "distancia = distancia_manhattan(punto1, punto2)\n",
        "print(f\"Distancia de Manhattan entre {punto1} y {punto2}: {distancia}\")\n",
        "graficar_distancia_manhattan(punto1, punto2)"
      ],
      "metadata": {
        "colab": {
          "base_uri": "https://localhost:8080/",
          "height": 490
        },
        "id": "DCe8M68Qwai6",
        "outputId": "72f87454-c295-4f5e-dd54-55b39779e710"
      },
      "execution_count": null,
      "outputs": [
        {
          "output_type": "stream",
          "name": "stdout",
          "text": [
            "Distancia de Manhattan entre (5.901612903225806, 5.006) y (2.7483870967741937, 3.428): 4.731225806451613\n"
          ]
        },
        {
          "output_type": "display_data",
          "data": {
            "text/plain": [
              "<Figure size 640x480 with 1 Axes>"
            ],
            "image/png": "[encoded data removed]"
          },
          "metadata": {}
        }
      ]
    },
    {
      "cell_type": "code",
      "source": [
        "# prompt: Agrupar los datos en base a la medida de la distancia euclidiana del conjunto iris , crear un grafico para representar el agrupamiento\n",
        "\n",
        "import matplotlib.pyplot as plt\n",
        "from sklearn.cluster import KMeans\n",
        "\n",
        "# Agrupar los datos con KMeans usando la distancia euclidiana\n",
        "kmeans = KMeans(n_clusters=3, random_state=0)\n",
        "df_iris['cluster'] = kmeans.fit_predict(df_iris[['sepal length (cm)', 'sepal width (cm)', 'petal length (cm)', 'petal width (cm)']])\n",
        "\n",
        "# Graficar el agrupamiento\n",
        "plt.figure(figsize=(10, 6))\n",
        "plt.scatter(df_iris['sepal length (cm)'], df_iris['sepal width (cm)'], c=df_iris['cluster'], cmap='viridis')\n",
        "plt.xlabel('Longitud del sépalo (cm)')\n",
        "plt.ylabel('Ancho del sépalo (cm)')\n",
        "plt.title('Agrupamiento con KMeans (Distancia Euclidiana)')\n",
        "plt.show()\n"
      ],
      "metadata": {
        "colab": {
          "base_uri": "https://localhost:8080/",
          "height": 621
        },
        "id": "I1G2MRjis1H9",
        "outputId": "85892f6d-4912-488f-bd29-864ad6cfa622"
      },
      "execution_count": null,
      "outputs": [
        {
          "output_type": "stream",
          "name": "stderr",
          "text": [
            "/usr/local/lib/python3.10/dist-packages/sklearn/cluster/_kmeans.py:1416: FutureWarning: The default value of `n_init` will change from 10 to 'auto' in 1.4. Set the value of `n_init` explicitly to suppress the warning\n",
            "  super()._check_params_vs_input(X, default_n_init=10)\n"
          ]
        },
        {
          "output_type": "display_data",
          "data": {
            "text/plain": [
              "<Figure size 1000x600 with 1 Axes>"
            ],
            "image/png": "[encoded data removed]"
          },
          "metadata": {}
        }
      ]
    }
  ]
}